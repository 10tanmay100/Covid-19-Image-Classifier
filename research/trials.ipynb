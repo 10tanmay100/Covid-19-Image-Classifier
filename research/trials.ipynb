{
 "cells": [
  {
   "cell_type": "code",
   "execution_count": 5,
   "metadata": {},
   "outputs": [],
   "source": [
    "from ensure import ensure_annotations\n",
    "\n",
    "@ensure_annotations\n",
    "def f(x: int, y: float) -> float:\n",
    "    return x+y"
   ]
  },
  {
   "cell_type": "code",
   "execution_count": 3,
   "metadata": {},
   "outputs": [],
   "source": [
    "import os\n",
    "from pathlib import Path\n",
    "filedir,filename=os.path.split(Path(\"tests/data/test1.json\"))"
   ]
  },
  {
   "cell_type": "code",
   "execution_count": 9,
   "metadata": {},
   "outputs": [
    {
     "data": {
      "text/plain": [
       "20"
      ]
     },
     "execution_count": 9,
     "metadata": {},
     "output_type": "execute_result"
    }
   ],
   "source": [
    "len(os.listdir(\"E:/Ineuron/Project/Covid Classifier/Covid-19-Image-Classifier/artifacts/data_ingestion/Covid19-dataset/covid19-image-dataset/Covid19-dataset/test/Viral Pneumonia\"))"
   ]
  },
  {
   "cell_type": "code",
   "execution_count": 1,
   "metadata": {},
   "outputs": [],
   "source": [
    "from covid_classifier.utils import *"
   ]
  },
  {
   "cell_type": "code",
   "execution_count": 6,
   "metadata": {},
   "outputs": [],
   "source": [
    "for i in os.listdir(\"E:/Ineuron/Project/Covid Classifier/Covid-19-Image-Classifier/artifacts/data_ingestion/covid19-image-dataset/Covid19-dataset/train/Covid\"):\n",
    "    if get_size(Path(\"E:/Ineuron/Project/Covid Classifier/Covid-19-Image-Classifier/artifacts/data_ingestion/covid19-image-dataset/Covid19-dataset/train/Covid/\"+i))==0:\n",
    "        print(i)"
   ]
  },
  {
   "cell_type": "code",
   "execution_count": null,
   "metadata": {},
   "outputs": [],
   "source": []
  }
 ],
 "metadata": {
  "kernelspec": {
   "display_name": "Python 3.8.0 (conda)",
   "language": "python",
   "name": "python3"
  },
  "language_info": {
   "codemirror_mode": {
    "name": "ipython",
    "version": 3
   },
   "file_extension": ".py",
   "mimetype": "text/x-python",
   "name": "python",
   "nbconvert_exporter": "python",
   "pygments_lexer": "ipython3",
   "version": "3.8.13"
  },
  "orig_nbformat": 4,
  "vscode": {
   "interpreter": {
    "hash": "70bb8da554743aea5e027a69d03d52a69998e74987faba039fdfa8b18e115d69"
   }
  }
 },
 "nbformat": 4,
 "nbformat_minor": 2
}
